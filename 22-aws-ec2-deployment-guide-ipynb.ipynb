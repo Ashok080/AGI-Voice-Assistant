{
 "cells": [
  {
   "cell_type": "code",
   "execution_count": 1,
   "id": "228aba00",
   "metadata": {
    "_cell_guid": "b1076dfc-b9ad-4769-8c92-a6c4dae69d19",
    "_uuid": "8f2839f25d086af736a60e9eeb907d3b93b6e0e5",
    "execution": {
     "iopub.execute_input": "2025-07-16T07:40:58.767010Z",
     "iopub.status.busy": "2025-07-16T07:40:58.766701Z",
     "iopub.status.idle": "2025-07-16T07:41:00.794097Z",
     "shell.execute_reply": "2025-07-16T07:41:00.792949Z"
    },
    "papermill": {
     "duration": 2.032517,
     "end_time": "2025-07-16T07:41:00.796137",
     "exception": false,
     "start_time": "2025-07-16T07:40:58.763620",
     "status": "completed"
    },
    "tags": []
   },
   "outputs": [],
   "source": [
    "# This Python 3 environment comes with many helpful analytics libraries installed\n",
    "# It is defined by the kaggle/python Docker image: https://github.com/kaggle/docker-python\n",
    "# For example, here's several helpful packages to load\n",
    "\n",
    "import numpy as np # linear algebra\n",
    "import pandas as pd # data processing, CSV file I/O (e.g. pd.read_csv)\n",
    "\n",
    "# Input data files are available in the read-only \"../input/\" directory\n",
    "# For example, running this (by clicking run or pressing Shift+Enter) will list all files under the input directory\n",
    "\n",
    "import os\n",
    "for dirname, _, filenames in os.walk('/kaggle/input'):\n",
    "    for filename in filenames:\n",
    "        print(os.path.join(dirname, filename))\n",
    "\n",
    "# You can write up to 20GB to the current directory (/kaggle/working/) that gets preserved as output when you create a version using \"Save & Run All\" \n",
    "# You can also write temporary files to /kaggle/temp/, but they won't be saved outside of the current session"
   ]
  },
  {
   "cell_type": "code",
   "execution_count": 2,
   "id": "57e7931d",
   "metadata": {
    "execution": {
     "iopub.execute_input": "2025-07-16T07:41:00.805105Z",
     "iopub.status.busy": "2025-07-16T07:41:00.804220Z",
     "iopub.status.idle": "2025-07-16T07:41:00.818131Z",
     "shell.execute_reply": "2025-07-16T07:41:00.816757Z"
    },
    "papermill": {
     "duration": 0.020052,
     "end_time": "2025-07-16T07:41:00.819690",
     "exception": true,
     "start_time": "2025-07-16T07:41:00.799638",
     "status": "failed"
    },
    "tags": []
   },
   "outputs": [
    {
     "ename": "SyntaxError",
     "evalue": "invalid character '✅' (U+2705) (4207859354.py, line 1)",
     "output_type": "error",
     "traceback": [
      "\u001b[0;36m  File \u001b[0;32m\"/tmp/ipykernel_13/4207859354.py\"\u001b[0;36m, line \u001b[0;32m1\u001b[0m\n\u001b[0;31m    ✅ 1. Launch EC2 Instance\u001b[0m\n\u001b[0m    ^\u001b[0m\n\u001b[0;31mSyntaxError\u001b[0m\u001b[0;31m:\u001b[0m invalid character '✅' (U+2705)\n"
     ]
    }
   ],
   "source": [
    "✅ 1. Launch EC2 Instance\n",
    "\n",
    "Service: AWS EC2\n",
    "\n",
    "AMI: Ubuntu 20.04 LTS\n",
    "\n",
    "Instance type:\n",
    "\n",
    "t2.medium / t2.large (for small models)\n",
    "\n",
    "g4dn.xlarge (for GPU inference)\n",
    "\n",
    "\n",
    "Configure:\n",
    "\n",
    "Open ports: 22, 8000, 8501, 80, 443\n",
    "\n",
    "Add Elastic IP if needed.\n",
    "\n",
    "\n",
    "\n",
    "\n",
    "\n",
    "\n",
    "✅ 2. SSH into EC2\n",
    "\n",
    "ssh -i your-key.pem ubuntu@your-ec2-public-ip\n",
    "\n",
    "\n",
    "\n",
    "\n",
    "✅ 3. Install Docker\n",
    "\n",
    "sudo apt update\n",
    "sudo apt install docker.io -y\n",
    "sudo systemctl enable docker\n",
    "sudo systemctl start docker\n",
    "\n",
    "\n",
    "\n",
    "\n",
    "✅ 4. Pull or Build Docker Image\n",
    "\n",
    "If using Docker Hub:\n",
    "\n",
    "sudo docker pull your_dockerhub_username/agi-voice-agent\n",
    "\n",
    "Or build directly:\n",
    "\n",
    "git clone https://github.com/your-repo/agi-voice-agent.git\n",
    "cd agi-voice-agent\n",
    "sudo docker build -t agi-voice-agent .\n",
    "\n",
    "\n",
    "\n",
    "\n",
    "✅ 5. Run Docker Container\n",
    "\n",
    "sudo docker run -d -p 8000:8000 -p 8501:8501 agi-voice-agent\n",
    "\n",
    "\n",
    "\n",
    "\n",
    "✅ 6. Access the AGI Agent\n",
    "\n",
    "API:\n",
    "http://your-ec2-public-ip:8000/docs\n",
    "\n",
    "Streamlit UI:\n",
    "http://your-ec2-public-ip:8501\n",
    "\n",
    "\n",
    "\n",
    "✅ 7. Optional: Run on Boot\n",
    "\n",
    "Use docker restart policies:\n",
    "\n",
    "sudo docker run -d --restart unless-stopped -p 8000:8000 -p 8501:8501 agi-voice-agent\n",
    "\n",
    "\n",
    "\n",
    "✅ 8. Bonus Tips\n",
    "\n",
    "Use NGINX reverse proxy to map ports 80/443\n",
    "\n",
    "Install Certbot for HTTPS\n",
    "\n",
    "Enable CloudWatch Monitoring\n",
    "\n",
    "\n"
   ]
  }
 ],
 "metadata": {
  "kaggle": {
   "accelerator": "none",
   "dataSources": [],
   "isGpuEnabled": false,
   "isInternetEnabled": true,
   "language": "python",
   "sourceType": "notebook"
  },
  "kernelspec": {
   "display_name": "Python 3",
   "language": "python",
   "name": "python3"
  },
  "language_info": {
   "codemirror_mode": {
    "name": "ipython",
    "version": 3
   },
   "file_extension": ".py",
   "mimetype": "text/x-python",
   "name": "python",
   "nbconvert_exporter": "python",
   "pygments_lexer": "ipython3",
   "version": "3.11.13"
  },
  "papermill": {
   "default_parameters": {},
   "duration": 7.710641,
   "end_time": "2025-07-16T07:41:01.343364",
   "environment_variables": {},
   "exception": true,
   "input_path": "__notebook__.ipynb",
   "output_path": "__notebook__.ipynb",
   "parameters": {},
   "start_time": "2025-07-16T07:40:53.632723",
   "version": "2.6.0"
  }
 },
 "nbformat": 4,
 "nbformat_minor": 5
}
