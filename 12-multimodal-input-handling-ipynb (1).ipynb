{
 "cells": [
  {
   "cell_type": "code",
   "execution_count": 1,
   "id": "98e704c8",
   "metadata": {
    "_cell_guid": "b1076dfc-b9ad-4769-8c92-a6c4dae69d19",
    "_uuid": "8f2839f25d086af736a60e9eeb907d3b93b6e0e5",
    "execution": {
     "iopub.execute_input": "2025-07-16T06:33:34.478855Z",
     "iopub.status.busy": "2025-07-16T06:33:34.478569Z",
     "iopub.status.idle": "2025-07-16T06:33:36.387451Z",
     "shell.execute_reply": "2025-07-16T06:33:36.386490Z"
    },
    "papermill": {
     "duration": 1.913742,
     "end_time": "2025-07-16T06:33:36.389163",
     "exception": false,
     "start_time": "2025-07-16T06:33:34.475421",
     "status": "completed"
    },
    "tags": []
   },
   "outputs": [],
   "source": [
    "# This Python 3 environment comes with many helpful analytics libraries installed\n",
    "# It is defined by the kaggle/python Docker image: https://github.com/kaggle/docker-python\n",
    "# For example, here's several helpful packages to load\n",
    "\n",
    "import numpy as np # linear algebra\n",
    "import pandas as pd # data processing, CSV file I/O (e.g. pd.read_csv)\n",
    "\n",
    "# Input data files are available in the read-only \"../input/\" directory\n",
    "# For example, running this (by clicking run or pressing Shift+Enter) will list all files under the input directory\n",
    "\n",
    "import os\n",
    "for dirname, _, filenames in os.walk('/kaggle/input'):\n",
    "    for filename in filenames:\n",
    "        print(os.path.join(dirname, filename))\n",
    "\n",
    "# You can write up to 20GB to the current directory (/kaggle/working/) that gets preserved as output when you create a version using \"Save & Run All\" \n",
    "# You can also write temporary files to /kaggle/temp/, but they won't be saved outside of the current session"
   ]
  },
  {
   "cell_type": "code",
   "execution_count": 2,
   "id": "faf222a4",
   "metadata": {
    "execution": {
     "iopub.execute_input": "2025-07-16T06:33:36.393707Z",
     "iopub.status.busy": "2025-07-16T06:33:36.393331Z",
     "iopub.status.idle": "2025-07-16T06:33:36.404622Z",
     "shell.execute_reply": "2025-07-16T06:33:36.403540Z"
    },
    "papermill": {
     "duration": 0.014924,
     "end_time": "2025-07-16T06:33:36.405884",
     "exception": true,
     "start_time": "2025-07-16T06:33:36.390960",
     "status": "failed"
    },
    "tags": []
   },
   "outputs": [
    {
     "ename": "SyntaxError",
     "evalue": "invalid character '✅' (U+2705) (3957627843.py, line 5)",
     "output_type": "error",
     "traceback": [
      "\u001b[0;36m  File \u001b[0;32m\"/tmp/ipykernel_13/3957627843.py\"\u001b[0;36m, line \u001b[0;32m5\u001b[0m\n\u001b[0;31m    - ✅ Voice → Transcribed to text\u001b[0m\n\u001b[0m      ^\u001b[0m\n\u001b[0;31mSyntaxError\u001b[0m\u001b[0;31m:\u001b[0m invalid character '✅' (U+2705)\n"
     ]
    }
   ],
   "source": [
    "# 🖼️🎙️ AGI Voice Agent - Multimodal Input Handling (Notebook 12)\n",
    "\n",
    "### Objective:\n",
    "Integrate multiple input types:\n",
    "- ✅ Voice → Transcribed to text\n",
    "- ✅ Text → Direct query\n",
    "- ✅ Image → Captioning + visual understanding\n",
    "\n",
    "\n",
    "\n",
    "\n",
    "\n",
    "\n",
    "📌 1. Install Required Libraries\n",
    "\n",
    "!pip install transformers pillow torch torchvision\n",
    "\n",
    "\n",
    "\n",
    "\n",
    "📌 2. Load Libraries\n",
    "\n",
    "from transformers import BlipProcessor, BlipForConditionalGeneration\n",
    "from PIL import Image\n",
    "import whisper\n",
    "\n",
    "\n",
    "\n",
    "\n",
    "📌 3. Load Models\n",
    "\n",
    "# Image captioning model\n",
    "processor = BlipProcessor.from_pretrained(\"Salesforce/blip-image-captioning-base\")\n",
    "blip_model = BlipForConditionalGeneration.from_pretrained(\"Salesforce/blip-image-captioning-base\")\n",
    "\n",
    "# Whisper for voice\n",
    "whisper_model = whisper.load_model(\"base\")\n",
    "\n",
    "\n",
    "\n",
    "\n",
    "📌 4. Process Voice Input\n",
    "\n",
    "def transcribe_audio(audio_path):\n",
    "    result = whisper_model.transcribe(audio_path)\n",
    "    return result['text']\n",
    "\n",
    "voice_input = transcribe_audio(\"samples/sample_audio.wav\")\n",
    "print(\"Voice to Text:\", voice_input)\n",
    "\n",
    "\n",
    "\n",
    "\n",
    "📌 5. Process Image Input\n",
    "\n",
    "def describe_image(image_path):\n",
    "    raw_image = Image.open(image_path).convert('RGB')\n",
    "    inputs = processor(raw_image, return_tensors=\"pt\")\n",
    "    out = blip_model.generate(**inputs)\n",
    "    return processor.decode(out[0], skip_special_tokens=True)\n",
    "\n",
    "image_caption = describe_image(\"samples/sample_image.jpg\")\n",
    "print(\"Image Caption:\", image_caption)\n",
    "\n",
    "\n",
    "\n",
    "\n",
    "📌 6. Combine Inputs\n",
    "\n",
    "def combine_inputs(voice_text, image_caption, text_input):\n",
    "    combined = f\"Voice Input: {voice_text}\\nImage Description: {image_caption}\\nText Input: {text_input}\\n\"\n",
    "    return combined\n",
    "\n",
    "text_input = \"What is the connection between art and AI?\"\n",
    "combined_query = combine_inputs(voice_input, image_caption, text_input)\n",
    "print(\"Combined Query:\\n\", combined_query)\n",
    "\n",
    "\n",
    "\n",
    "\n",
    "📌 7. Pass to AGI Reasoning Model\n",
    "\n",
    "# Assuming 'llm' is defined as HuggingFacePipeline or other LLM\n",
    "response = llm(combined_query)\n",
    "print(\"AGI Response:\\n\", response[0]['generated_text'])\n",
    "\n"
   ]
  }
 ],
 "metadata": {
  "kaggle": {
   "accelerator": "none",
   "dataSources": [],
   "isGpuEnabled": false,
   "isInternetEnabled": true,
   "language": "python",
   "sourceType": "notebook"
  },
  "kernelspec": {
   "display_name": "Python 3",
   "language": "python",
   "name": "python3"
  },
  "language_info": {
   "codemirror_mode": {
    "name": "ipython",
    "version": 3
   },
   "file_extension": ".py",
   "mimetype": "text/x-python",
   "name": "python",
   "nbconvert_exporter": "python",
   "pygments_lexer": "ipython3",
   "version": "3.11.13"
  },
  "papermill": {
   "default_parameters": {},
   "duration": 7.202559,
   "end_time": "2025-07-16T06:33:36.926175",
   "environment_variables": {},
   "exception": true,
   "input_path": "__notebook__.ipynb",
   "output_path": "__notebook__.ipynb",
   "parameters": {},
   "start_time": "2025-07-16T06:33:29.723616",
   "version": "2.6.0"
  }
 },
 "nbformat": 4,
 "nbformat_minor": 5
}
