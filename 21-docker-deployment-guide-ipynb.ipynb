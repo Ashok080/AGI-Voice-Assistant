{
 "cells": [
  {
   "cell_type": "code",
   "execution_count": 1,
   "id": "19cd82dd",
   "metadata": {
    "_cell_guid": "b1076dfc-b9ad-4769-8c92-a6c4dae69d19",
    "_uuid": "8f2839f25d086af736a60e9eeb907d3b93b6e0e5",
    "execution": {
     "iopub.execute_input": "2025-07-16T07:34:21.810357Z",
     "iopub.status.busy": "2025-07-16T07:34:21.810055Z",
     "iopub.status.idle": "2025-07-16T07:34:23.709175Z",
     "shell.execute_reply": "2025-07-16T07:34:23.707948Z"
    },
    "papermill": {
     "duration": 1.904397,
     "end_time": "2025-07-16T07:34:23.711285",
     "exception": false,
     "start_time": "2025-07-16T07:34:21.806888",
     "status": "completed"
    },
    "tags": []
   },
   "outputs": [],
   "source": [
    "# This Python 3 environment comes with many helpful analytics libraries installed\n",
    "# It is defined by the kaggle/python Docker image: https://github.com/kaggle/docker-python\n",
    "# For example, here's several helpful packages to load\n",
    "\n",
    "import numpy as np # linear algebra\n",
    "import pandas as pd # data processing, CSV file I/O (e.g. pd.read_csv)\n",
    "\n",
    "# Input data files are available in the read-only \"../input/\" directory\n",
    "# For example, running this (by clicking run or pressing Shift+Enter) will list all files under the input directory\n",
    "\n",
    "import os\n",
    "for dirname, _, filenames in os.walk('/kaggle/input'):\n",
    "    for filename in filenames:\n",
    "        print(os.path.join(dirname, filename))\n",
    "\n",
    "# You can write up to 20GB to the current directory (/kaggle/working/) that gets preserved as output when you create a version using \"Save & Run All\" \n",
    "# You can also write temporary files to /kaggle/temp/, but they won't be saved outside of the current session"
   ]
  },
  {
   "cell_type": "code",
   "execution_count": 2,
   "id": "d7ce6726",
   "metadata": {
    "execution": {
     "iopub.execute_input": "2025-07-16T07:34:23.716381Z",
     "iopub.status.busy": "2025-07-16T07:34:23.715701Z",
     "iopub.status.idle": "2025-07-16T07:34:23.727946Z",
     "shell.execute_reply": "2025-07-16T07:34:23.726635Z"
    },
    "papermill": {
     "duration": 0.016343,
     "end_time": "2025-07-16T07:34:23.729662",
     "exception": true,
     "start_time": "2025-07-16T07:34:23.713319",
     "status": "failed"
    },
    "tags": []
   },
   "outputs": [
    {
     "ename": "SyntaxError",
     "evalue": "invalid character '✅' (U+2705) (3002290478.py, line 1)",
     "output_type": "error",
     "traceback": [
      "\u001b[0;36m  File \u001b[0;32m\"/tmp/ipykernel_13/3002290478.py\"\u001b[0;36m, line \u001b[0;32m1\u001b[0m\n\u001b[0;31m    ✅ 1. Project Structure Example\u001b[0m\n\u001b[0m    ^\u001b[0m\n\u001b[0;31mSyntaxError\u001b[0m\u001b[0;31m:\u001b[0m invalid character '✅' (U+2705)\n"
     ]
    }
   ],
   "source": [
    "✅ 1. Project Structure Example\n",
    "\n",
    "/AGI-Voice-Agent\n",
    "├── app.py                 # Streamlit UI\n",
    "├── api.py                 # FastAPI backend\n",
    "├── requirements.txt\n",
    "├── Dockerfile\n",
    "├── models/                # Saved models, vector stores\n",
    "├── outputs/               # Audio, logs\n",
    "\n",
    "\n",
    "\n",
    "\n",
    "✅ 2. Example Dockerfile\n",
    "\n",
    "# Base image\n",
    "FROM python:3.10-slim\n",
    "\n",
    "# Set working directory\n",
    "WORKDIR /app\n",
    "\n",
    "# Install dependencies\n",
    "COPY requirements.txt .\n",
    "RUN pip install --no-cache-dir -r requirements.txt\n",
    "\n",
    "# Copy project files\n",
    "COPY . .\n",
    "\n",
    "# Expose Streamlit (8501) and FastAPI (8000) ports\n",
    "EXPOSE 8000\n",
    "EXPOSE 8501\n",
    "\n",
    "# Start both Streamlit UI and FastAPI via a process manager\n",
    "CMD [\"sh\", \"-c\", \"uvicorn api:app --host 0.0.0.0 --port 8000 & streamlit run app.py --server.port 8501\"]\n",
    "\n",
    "\n",
    "\n",
    "\n",
    "✅ 3. Example requirements.txt\n",
    "\n",
    "fastapi\n",
    "uvicorn\n",
    "streamlit\n",
    "transformers\n",
    "sentence-transformers\n",
    "whisper\n",
    "elevenlabs\n",
    "langchain\n",
    "psycopg2-binary\n",
    "Pillow\n",
    "\n",
    "\n",
    "\n",
    "\n",
    "✅ 4. Build Docker Image\n",
    "\n",
    "In your project root:\n",
    "\n",
    "docker build -t agi-voice-agent .\n",
    "\n",
    "\n",
    "\n",
    "\n",
    "✅ 5. Run Docker Container\n",
    "\n",
    "docker run -p 8000:8000 -p 8501:8501 agi-voice-agent\n",
    "\n",
    "\n",
    "\n",
    "\n",
    "✅ 6. Access Your Services\n",
    "\n",
    "FastAPI API → http://localhost:8000/docs\n",
    "\n",
    "Streamlit UI → http://localhost:8501\n",
    "\n",
    "\n",
    "\n",
    "\n",
    "\n",
    "✅ 7. Push to Docker Hub (Optional)\n",
    "\n",
    "docker tag agi-voice-agent your_dockerhub_username/agi-voice-agent\n",
    "docker push your_dockerhub_username/agi-voice-agent"
   ]
  }
 ],
 "metadata": {
  "kaggle": {
   "accelerator": "none",
   "dataSources": [],
   "isGpuEnabled": false,
   "isInternetEnabled": true,
   "language": "python",
   "sourceType": "notebook"
  },
  "kernelspec": {
   "display_name": "Python 3",
   "language": "python",
   "name": "python3"
  },
  "language_info": {
   "codemirror_mode": {
    "name": "ipython",
    "version": 3
   },
   "file_extension": ".py",
   "mimetype": "text/x-python",
   "name": "python",
   "nbconvert_exporter": "python",
   "pygments_lexer": "ipython3",
   "version": "3.11.13"
  },
  "papermill": {
   "default_parameters": {},
   "duration": 7.268072,
   "end_time": "2025-07-16T07:34:24.252719",
   "environment_variables": {},
   "exception": true,
   "input_path": "__notebook__.ipynb",
   "output_path": "__notebook__.ipynb",
   "parameters": {},
   "start_time": "2025-07-16T07:34:16.984647",
   "version": "2.6.0"
  }
 },
 "nbformat": 4,
 "nbformat_minor": 5
}
