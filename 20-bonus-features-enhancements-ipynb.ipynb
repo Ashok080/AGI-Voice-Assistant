{
 "cells": [
  {
   "cell_type": "code",
   "execution_count": 1,
   "id": "378eff18",
   "metadata": {
    "_cell_guid": "b1076dfc-b9ad-4769-8c92-a6c4dae69d19",
    "_uuid": "8f2839f25d086af736a60e9eeb907d3b93b6e0e5",
    "execution": {
     "iopub.execute_input": "2025-07-16T07:30:43.524314Z",
     "iopub.status.busy": "2025-07-16T07:30:43.523570Z",
     "iopub.status.idle": "2025-07-16T07:30:45.368944Z",
     "shell.execute_reply": "2025-07-16T07:30:45.368301Z"
    },
    "papermill": {
     "duration": 1.850325,
     "end_time": "2025-07-16T07:30:45.370303",
     "exception": false,
     "start_time": "2025-07-16T07:30:43.519978",
     "status": "completed"
    },
    "tags": []
   },
   "outputs": [],
   "source": [
    "# This Python 3 environment comes with many helpful analytics libraries installed\n",
    "# It is defined by the kaggle/python Docker image: https://github.com/kaggle/docker-python\n",
    "# For example, here's several helpful packages to load\n",
    "\n",
    "import numpy as np # linear algebra\n",
    "import pandas as pd # data processing, CSV file I/O (e.g. pd.read_csv)\n",
    "\n",
    "# Input data files are available in the read-only \"../input/\" directory\n",
    "# For example, running this (by clicking run or pressing Shift+Enter) will list all files under the input directory\n",
    "\n",
    "import os\n",
    "for dirname, _, filenames in os.walk('/kaggle/input'):\n",
    "    for filename in filenames:\n",
    "        print(os.path.join(dirname, filename))\n",
    "\n",
    "# You can write up to 20GB to the current directory (/kaggle/working/) that gets preserved as output when you create a version using \"Save & Run All\" \n",
    "# You can also write temporary files to /kaggle/temp/, but they won't be saved outside of the current session"
   ]
  },
  {
   "cell_type": "code",
   "execution_count": 2,
   "id": "0e1190b6",
   "metadata": {
    "execution": {
     "iopub.execute_input": "2025-07-16T07:30:45.373569Z",
     "iopub.status.busy": "2025-07-16T07:30:45.373295Z",
     "iopub.status.idle": "2025-07-16T07:30:45.380866Z",
     "shell.execute_reply": "2025-07-16T07:30:45.380024Z"
    },
    "papermill": {
     "duration": 0.010185,
     "end_time": "2025-07-16T07:30:45.381903",
     "exception": true,
     "start_time": "2025-07-16T07:30:45.371718",
     "status": "failed"
    },
    "tags": []
   },
   "outputs": [
    {
     "ename": "SyntaxError",
     "evalue": "invalid character '✅' (U+2705) (2459260450.py, line 10)",
     "output_type": "error",
     "traceback": [
      "\u001b[0;36m  File \u001b[0;32m\"/tmp/ipykernel_13/2459260450.py\"\u001b[0;36m, line \u001b[0;32m10\u001b[0m\n\u001b[0;31m    ✅ 1. Multimodal Input Processing\u001b[0m\n\u001b[0m    ^\u001b[0m\n\u001b[0;31mSyntaxError\u001b[0m\u001b[0;31m:\u001b[0m invalid character '✅' (U+2705)\n"
     ]
    }
   ],
   "source": [
    "# 🚀 AGI Voice Agent - Bonus Features & Enhancements (Notebook 20)\n",
    "\n",
    "### Objectives:\n",
    "- Add multimodal input (voice, text, image)\n",
    "- Persist memory to Postgres with pgvector\n",
    "- Display chat history in Streamlit UI\n",
    "\n",
    "\n",
    "\n",
    "✅ 1. Multimodal Input Processing\n",
    "\n",
    "Already shown previously, but enhanced:\n",
    "\n",
    "def process_image(image_path):\n",
    "    from transformers import BlipProcessor, BlipForConditionalGeneration\n",
    "    from PIL import Image\n",
    "\n",
    "    processor = BlipProcessor.from_pretrained(\"Salesforce/blip-image-captioning-base\")\n",
    "    model = BlipForConditionalGeneration.from_pretrained(\"Salesforce/blip-image-captioning-base\")\n",
    "\n",
    "    image = Image.open(image_path).convert('RGB')\n",
    "    inputs = processor(image, return_tensors=\"pt\")\n",
    "    out = model.generate(**inputs)\n",
    "    caption = processor.decode(out[0], skip_special_tokens=True)\n",
    "    return caption\n",
    "\n",
    "\n",
    "\n",
    "\n",
    "✅ 2. Persistent Memory with Postgres + pgvector\n",
    "\n",
    "Example insert and retrieval:\n",
    "\n",
    "import psycopg2\n",
    "\n",
    "conn = psycopg2.connect(\n",
    "    dbname=\"agi_memory\", user=\"postgres\", password=\"password\",\n",
    "    host=\"localhost\", port=\"5432\"\n",
    ")\n",
    "cursor = conn.cursor()\n",
    "\n",
    "def store_memory(user_id, message, embedding):\n",
    "    cursor.execute(\n",
    "        \"INSERT INTO memory (user_id, message, embedding) VALUES (%s, %s, %s)\",\n",
    "        (user_id, message, list(embedding))\n",
    "    )\n",
    "    conn.commit()\n",
    "\n",
    "def retrieve_memory_pg(user_id, query_embedding, top_k=3):\n",
    "    cursor.execute(\n",
    "        \"SELECT message, embedding <=> %s as distance FROM memory WHERE user_id = %s ORDER BY distance ASC LIMIT %s\",\n",
    "        (list(query_embedding), user_id, top_k)\n",
    "    )\n",
    "    return cursor.fetchall()\n",
    "\n",
    "\n",
    "\n",
    "\n",
    "✅ 3. Display Chat History in Streamlit\n",
    "\n",
    "import streamlit as st\n",
    "\n",
    "if 'chat_history' not in st.session_state:\n",
    "    st.session_state['chat_history'] = []\n",
    "\n",
    "user_input = st.text_input(\"Enter your message:\")\n",
    "if st.button(\"Send\"):\n",
    "    response, voice_path = agi_voice_agent(text_input=user_input)\n",
    "    st.session_state.chat_history.append((user_input, response))\n",
    "    st.audio(voice_path)\n",
    "\n",
    "st.write(\"### Chat History\")\n",
    "for i, (q, r) in enumerate(st.session_state.chat_history):\n",
    "    st.write(f\"**You:** {q}\")\n",
    "    st.write(f\"**AGI:** {r}\")"
   ]
  }
 ],
 "metadata": {
  "kaggle": {
   "accelerator": "none",
   "dataSources": [],
   "isGpuEnabled": false,
   "isInternetEnabled": true,
   "language": "python",
   "sourceType": "notebook"
  },
  "kernelspec": {
   "display_name": "Python 3",
   "language": "python",
   "name": "python3"
  },
  "language_info": {
   "codemirror_mode": {
    "name": "ipython",
    "version": 3
   },
   "file_extension": ".py",
   "mimetype": "text/x-python",
   "name": "python",
   "nbconvert_exporter": "python",
   "pygments_lexer": "ipython3",
   "version": "3.11.13"
  },
  "papermill": {
   "default_parameters": {},
   "duration": 8.474918,
   "end_time": "2025-07-16T07:30:45.901636",
   "environment_variables": {},
   "exception": true,
   "input_path": "__notebook__.ipynb",
   "output_path": "__notebook__.ipynb",
   "parameters": {},
   "start_time": "2025-07-16T07:30:37.426718",
   "version": "2.6.0"
  }
 },
 "nbformat": 4,
 "nbformat_minor": 5
}
