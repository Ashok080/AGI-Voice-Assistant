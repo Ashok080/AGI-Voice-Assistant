{
 "cells": [
  {
   "cell_type": "code",
   "execution_count": 1,
   "id": "b4319202",
   "metadata": {
    "_cell_guid": "b1076dfc-b9ad-4769-8c92-a6c4dae69d19",
    "_uuid": "8f2839f25d086af736a60e9eeb907d3b93b6e0e5",
    "execution": {
     "iopub.execute_input": "2025-07-16T07:13:25.088909Z",
     "iopub.status.busy": "2025-07-16T07:13:25.088037Z",
     "iopub.status.idle": "2025-07-16T07:13:27.109620Z",
     "shell.execute_reply": "2025-07-16T07:13:27.108754Z"
    },
    "papermill": {
     "duration": 2.026377,
     "end_time": "2025-07-16T07:13:27.111220",
     "exception": false,
     "start_time": "2025-07-16T07:13:25.084843",
     "status": "completed"
    },
    "tags": []
   },
   "outputs": [],
   "source": [
    "# This Python 3 environment comes with many helpful analytics libraries installed\n",
    "# It is defined by the kaggle/python Docker image: https://github.com/kaggle/docker-python\n",
    "# For example, here's several helpful packages to load\n",
    "\n",
    "import numpy as np # linear algebra\n",
    "import pandas as pd # data processing, CSV file I/O (e.g. pd.read_csv)\n",
    "\n",
    "# Input data files are available in the read-only \"../input/\" directory\n",
    "# For example, running this (by clicking run or pressing Shift+Enter) will list all files under the input directory\n",
    "\n",
    "import os\n",
    "for dirname, _, filenames in os.walk('/kaggle/input'):\n",
    "    for filename in filenames:\n",
    "        print(os.path.join(dirname, filename))\n",
    "\n",
    "# You can write up to 20GB to the current directory (/kaggle/working/) that gets preserved as output when you create a version using \"Save & Run All\" \n",
    "# You can also write temporary files to /kaggle/temp/, but they won't be saved outside of the current session"
   ]
  },
  {
   "cell_type": "code",
   "execution_count": 2,
   "id": "7b3ea816",
   "metadata": {
    "execution": {
     "iopub.execute_input": "2025-07-16T07:13:27.116710Z",
     "iopub.status.busy": "2025-07-16T07:13:27.116233Z",
     "iopub.status.idle": "2025-07-16T07:13:27.128895Z",
     "shell.execute_reply": "2025-07-16T07:13:27.127292Z"
    },
    "papermill": {
     "duration": 0.017307,
     "end_time": "2025-07-16T07:13:27.130520",
     "exception": true,
     "start_time": "2025-07-16T07:13:27.113213",
     "status": "failed"
    },
    "tags": []
   },
   "outputs": [
    {
     "ename": "SyntaxError",
     "evalue": "invalid character '📌' (U+1F4CC) (1407072644.py, line 12)",
     "output_type": "error",
     "traceback": [
      "\u001b[0;36m  File \u001b[0;32m\"/tmp/ipykernel_13/1407072644.py\"\u001b[0;36m, line \u001b[0;32m12\u001b[0m\n\u001b[0;31m    📌 1. Install Dependencies\u001b[0m\n\u001b[0m    ^\u001b[0m\n\u001b[0;31mSyntaxError\u001b[0m\u001b[0;31m:\u001b[0m invalid character '📌' (U+1F4CC)\n"
     ]
    }
   ],
   "source": [
    "# 🌐 AGI Voice Agent - FastAPI Deployment (Notebook 16)\n",
    "\n",
    "### Objective:\n",
    "- Expose AGI reasoning, voice-to-text, text-to-voice, and RAG pipelines via API endpoints.\n",
    "- Scalable deployment using **FastAPI + Uvicorn**\n",
    "\n",
    "\n",
    "\n",
    "\n",
    "\n",
    "\n",
    "📌 1. Install Dependencies\n",
    "\n",
    "!pip install fastapi uvicorn transformers sentence-transformers elevenlabs whisper\n",
    "\n",
    "\n",
    "\n",
    "\n",
    "📌 2. Basic FastAPI Server\n",
    "\n",
    "from fastapi import FastAPI, UploadFile, File\n",
    "from pydantic import BaseModel\n",
    "\n",
    "app = FastAPI(title=\"AGI Voice Agent API\")\n",
    "\n",
    "\n",
    "\n",
    "\n",
    "📌 3. Define Models & Loading Components\n",
    "\n",
    "from transformers import pipeline\n",
    "import whisper\n",
    "from elevenlabs import generate, set_api_key, save\n",
    "\n",
    "set_api_key(\"YOUR_ELEVENLABS_API_KEY\")\n",
    "\n",
    "whisper_model = whisper.load_model(\"base\")\n",
    "llm_pipeline = pipeline('text-generation', model='gpt2')\n",
    "\n",
    "class TextInput(BaseModel):\n",
    "    text: str\n",
    "\n",
    "\n",
    "\n",
    "\n",
    "📌 4. Endpoint: Text Reasoning\n",
    "\n",
    "@app.post(\"/reason\")\n",
    "def reason(input: TextInput):\n",
    "    output = llm_pipeline(input.text)[0]['generated_text']\n",
    "    return {\"response\": output}\n",
    "\n",
    "\n",
    "\n",
    "\n",
    "📌 5. Endpoint: Voice to Text\n",
    "\n",
    "@app.post(\"/voice-to-text/\")\n",
    "async def voice_to_text(file: UploadFile = File(...)):\n",
    "    with open(f'temp_{file.filename}', 'wb') as buffer:\n",
    "        buffer.write(await file.read())\n",
    "    result = whisper_model.transcribe(f'temp_{file.filename}')\n",
    "    return {\"transcription\": result['text']}\n",
    "\n",
    "\n",
    "\n",
    "\n",
    "📌 6. Endpoint: Text to Voice (TTS)\n",
    "\n",
    "@app.post(\"/text-to-voice/\")\n",
    "def text_to_voice(input: TextInput):\n",
    "    audio = generate(text=input.text, voice=\"Rachel\")\n",
    "    output_path = f\"outputs/{input.text[:10]}.mp3\"\n",
    "    save(audio, output_path)\n",
    "    return {\"audio_file\": output_path}"
   ]
  }
 ],
 "metadata": {
  "kaggle": {
   "accelerator": "none",
   "dataSources": [],
   "dockerImageVersionId": 31089,
   "isGpuEnabled": false,
   "isInternetEnabled": true,
   "language": "python",
   "sourceType": "notebook"
  },
  "kernelspec": {
   "display_name": "Python 3",
   "language": "python",
   "name": "python3"
  },
  "language_info": {
   "codemirror_mode": {
    "name": "ipython",
    "version": 3
   },
   "file_extension": ".py",
   "mimetype": "text/x-python",
   "name": "python",
   "nbconvert_exporter": "python",
   "pygments_lexer": "ipython3",
   "version": "3.11.13"
  },
  "papermill": {
   "default_parameters": {},
   "duration": 7.513489,
   "end_time": "2025-07-16T07:13:27.652196",
   "environment_variables": {},
   "exception": true,
   "input_path": "__notebook__.ipynb",
   "output_path": "__notebook__.ipynb",
   "parameters": {},
   "start_time": "2025-07-16T07:13:20.138707",
   "version": "2.6.0"
  }
 },
 "nbformat": 4,
 "nbformat_minor": 5
}
