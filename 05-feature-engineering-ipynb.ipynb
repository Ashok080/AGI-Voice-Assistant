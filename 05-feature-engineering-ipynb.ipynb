{
 "cells": [
  {
   "cell_type": "code",
   "execution_count": 1,
   "id": "212f45de",
   "metadata": {
    "_cell_guid": "b1076dfc-b9ad-4769-8c92-a6c4dae69d19",
    "_uuid": "8f2839f25d086af736a60e9eeb907d3b93b6e0e5",
    "execution": {
     "iopub.execute_input": "2025-07-16T06:01:23.882950Z",
     "iopub.status.busy": "2025-07-16T06:01:23.882568Z",
     "iopub.status.idle": "2025-07-16T06:01:26.044317Z",
     "shell.execute_reply": "2025-07-16T06:01:26.043354Z"
    },
    "papermill": {
     "duration": 2.167412,
     "end_time": "2025-07-16T06:01:26.046284",
     "exception": false,
     "start_time": "2025-07-16T06:01:23.878872",
     "status": "completed"
    },
    "tags": []
   },
   "outputs": [],
   "source": [
    "# This Python 3 environment comes with many helpful analytics libraries installed\n",
    "# It is defined by the kaggle/python Docker image: https://github.com/kaggle/docker-python\n",
    "# For example, here's several helpful packages to load\n",
    "\n",
    "import numpy as np # linear algebra\n",
    "import pandas as pd # data processing, CSV file I/O (e.g. pd.read_csv)\n",
    "\n",
    "# Input data files are available in the read-only \"../input/\" directory\n",
    "# For example, running this (by clicking run or pressing Shift+Enter) will list all files under the input directory\n",
    "\n",
    "import os\n",
    "for dirname, _, filenames in os.walk('/kaggle/input'):\n",
    "    for filename in filenames:\n",
    "        print(os.path.join(dirname, filename))\n",
    "\n",
    "# You can write up to 20GB to the current directory (/kaggle/working/) that gets preserved as output when you create a version using \"Save & Run All\" \n",
    "# You can also write temporary files to /kaggle/temp/, but they won't be saved outside of the current session"
   ]
  },
  {
   "cell_type": "code",
   "execution_count": 2,
   "id": "805fab71",
   "metadata": {
    "execution": {
     "iopub.execute_input": "2025-07-16T06:01:26.052070Z",
     "iopub.status.busy": "2025-07-16T06:01:26.051346Z",
     "iopub.status.idle": "2025-07-16T06:01:26.062915Z",
     "shell.execute_reply": "2025-07-16T06:01:26.061709Z"
    },
    "papermill": {
     "duration": 0.016266,
     "end_time": "2025-07-16T06:01:26.064553",
     "exception": true,
     "start_time": "2025-07-16T06:01:26.048287",
     "status": "failed"
    },
    "tags": []
   },
   "outputs": [
    {
     "ename": "SyntaxError",
     "evalue": "invalid character '📌' (U+1F4CC) (2518880055.py, line 11)",
     "output_type": "error",
     "traceback": [
      "\u001b[0;36m  File \u001b[0;32m\"/tmp/ipykernel_13/2518880055.py\"\u001b[0;36m, line \u001b[0;32m11\u001b[0m\n\u001b[0;31m    📌 1. Libraries\u001b[0m\n\u001b[0m    ^\u001b[0m\n\u001b[0;31mSyntaxError\u001b[0m\u001b[0;31m:\u001b[0m invalid character '📌' (U+1F4CC)\n"
     ]
    }
   ],
   "source": [
    "# 🛠️ AGI Voice Agent - Feature Engineering (Notebook 5)\n",
    "\n",
    "### Purpose:\n",
    "- Extract structured features from text, reasoning data, or multimodal sources.\n",
    "- Normalize and transform features for model training and retrieval pipelines (RAG/LLMs).\n",
    "\n",
    "\n",
    "\n",
    "\n",
    "\n",
    "📌 1. Libraries\n",
    "\n",
    "import pandas as pd\n",
    "import numpy as np\n",
    "from sklearn.feature_extraction.text import TfidfVectorizer\n",
    "from sentence_transformers import SentenceTransformer\n",
    "import json\n",
    "\n",
    "\n",
    "\n",
    "\n",
    "📌 2. Load Example Dataset\n",
    "\n",
    "df = pd.read_parquet('processed/ai_reasoning.parquet')\n",
    "df.head()\n",
    "\n",
    "\n",
    "\n",
    "\n",
    "📌 3. TF-IDF Feature Extraction (for text columns)\n",
    "\n",
    "text_column = 'question'  # Example column name\n",
    "\n",
    "tfidf = TfidfVectorizer(max_features=100)\n",
    "tfidf_matrix = tfidf.fit_transform(df[text_column].fillna(''))\n",
    "\n",
    "tfidf_feature_names = tfidf.get_feature_names_out()\n",
    "tfidf_df = pd.DataFrame(tfidf_matrix.toarray(), columns=tfidf_feature_names)\n",
    "\n",
    "tfidf_df.head()\n",
    "\n",
    "\n",
    "\n",
    "\n",
    "📌 4. Sentence Embedding with Transformer Models\n",
    "\n",
    "model = SentenceTransformer('all-MiniLM-L6-v2')\n",
    "\n",
    "embeddings = model.encode(df[text_column].fillna(''))\n",
    "\n",
    "print(\"Embedding shape:\", embeddings.shape)\n",
    "\n",
    "\n",
    "\n",
    "\n",
    "📌 5. Add Embeddings to Dataset\n",
    "\n",
    "embedding_columns = [f'embedding_{i}' for i in range(embeddings.shape[1])]\n",
    "embedding_df = pd.DataFrame(embeddings, columns=embedding_columns)\n",
    "\n",
    "df_with_embeddings = pd.concat([df.reset_index(drop=True), embedding_df], axis=1)\n",
    "df_with_embeddings.head()\n",
    "\n",
    "\n",
    "\n",
    "\n",
    "📌 6. Save Feature-Enhanced Dataset\n",
    "\n",
    "df_with_embeddings.to_parquet('processed/ai_reasoning_features.parquet', compression='gzip')\n",
    "print(\"✅ Saved feature-enhanced dataset\")\n",
    "\n",
    "\n",
    "\n",
    "\n",
    "📌 7. Automate Feature Extraction for All Datasets\n",
    "\n",
    "dataset_files = {\n",
    "    \"AI_Reasoning\": \"processed/ai_reasoning.parquet\",\n",
    "    # Extend to all datasets\n",
    "}\n",
    "\n",
    "def process_dataset_features(name, path, text_column='question'):\n",
    "    df = pd.read_parquet(path)\n",
    "    embeddings = model.encode(df[text_column].fillna(''))\n",
    "    embedding_columns = [f'embedding_{i}' for i in range(embeddings.shape[1])]\n",
    "    embedding_df = pd.DataFrame(embeddings, columns=embedding_columns)\n",
    "    df_feat = pd.concat([df.reset_index(drop=True), embedding_df], axis=1)\n",
    "    df_feat.to_parquet(f'processed/{name}_features.parquet', compression='gzip')\n",
    "    print(f\"✅ Processed features for {name}\")\n",
    "\n",
    "for name, path in dataset_files.items():\n",
    "    process_dataset_features(name, path)"
   ]
  }
 ],
 "metadata": {
  "kaggle": {
   "accelerator": "none",
   "dataSources": [],
   "dockerImageVersionId": 31089,
   "isGpuEnabled": false,
   "isInternetEnabled": true,
   "language": "python",
   "sourceType": "notebook"
  },
  "kernelspec": {
   "display_name": "Python 3",
   "language": "python",
   "name": "python3"
  },
  "language_info": {
   "codemirror_mode": {
    "name": "ipython",
    "version": 3
   },
   "file_extension": ".py",
   "mimetype": "text/x-python",
   "name": "python",
   "nbconvert_exporter": "python",
   "pygments_lexer": "ipython3",
   "version": "3.11.13"
  },
  "papermill": {
   "default_parameters": {},
   "duration": 7.917615,
   "end_time": "2025-07-16T06:01:26.587272",
   "environment_variables": {},
   "exception": true,
   "input_path": "__notebook__.ipynb",
   "output_path": "__notebook__.ipynb",
   "parameters": {},
   "start_time": "2025-07-16T06:01:18.669657",
   "version": "2.6.0"
  }
 },
 "nbformat": 4,
 "nbformat_minor": 5
}
