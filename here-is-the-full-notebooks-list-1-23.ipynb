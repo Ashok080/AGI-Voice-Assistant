{
 "cells": [
  {
   "cell_type": "code",
   "execution_count": 1,
   "id": "e6cd4c80",
   "metadata": {
    "_cell_guid": "b1076dfc-b9ad-4769-8c92-a6c4dae69d19",
    "_uuid": "8f2839f25d086af736a60e9eeb907d3b93b6e0e5",
    "execution": {
     "iopub.execute_input": "2025-07-16T07:47:26.355277Z",
     "iopub.status.busy": "2025-07-16T07:47:26.354934Z",
     "iopub.status.idle": "2025-07-16T07:47:28.460054Z",
     "shell.execute_reply": "2025-07-16T07:47:28.458952Z"
    },
    "papermill": {
     "duration": 2.110177,
     "end_time": "2025-07-16T07:47:28.461836",
     "exception": false,
     "start_time": "2025-07-16T07:47:26.351659",
     "status": "completed"
    },
    "tags": []
   },
   "outputs": [],
   "source": [
    "# This Python 3 environment comes with many helpful analytics libraries installed\n",
    "# It is defined by the kaggle/python Docker image: https://github.com/kaggle/docker-python\n",
    "# For example, here's several helpful packages to load\n",
    "\n",
    "import numpy as np # linear algebra\n",
    "import pandas as pd # data processing, CSV file I/O (e.g. pd.read_csv)\n",
    "\n",
    "# Input data files are available in the read-only \"../input/\" directory\n",
    "# For example, running this (by clicking run or pressing Shift+Enter) will list all files under the input directory\n",
    "\n",
    "import os\n",
    "for dirname, _, filenames in os.walk('/kaggle/input'):\n",
    "    for filename in filenames:\n",
    "        print(os.path.join(dirname, filename))\n",
    "\n",
    "# You can write up to 20GB to the current directory (/kaggle/working/) that gets preserved as output when you create a version using \"Save & Run All\" \n",
    "# You can also write temporary files to /kaggle/temp/, but they won't be saved outside of the current session"
   ]
  },
  {
   "cell_type": "code",
   "execution_count": 2,
   "id": "b873c0cd",
   "metadata": {
    "execution": {
     "iopub.execute_input": "2025-07-16T07:47:28.466594Z",
     "iopub.status.busy": "2025-07-16T07:47:28.466182Z",
     "iopub.status.idle": "2025-07-16T07:47:28.475104Z",
     "shell.execute_reply": "2025-07-16T07:47:28.473852Z"
    },
    "papermill": {
     "duration": 0.01276,
     "end_time": "2025-07-16T07:47:28.476549",
     "exception": true,
     "start_time": "2025-07-16T07:47:28.463789",
     "status": "failed"
    },
    "tags": []
   },
   "outputs": [
    {
     "ename": "SyntaxError",
     "evalue": "invalid character '→' (U+2192) (2596804954.py, line 5)",
     "output_type": "error",
     "traceback": [
      "\u001b[0;36m  File \u001b[0;32m\"/tmp/ipykernel_13/2596804954.py\"\u001b[0;36m, line \u001b[0;32m5\u001b[0m\n\u001b[0;31m    3\tVoice_to_Text_Whisper_Model.ipynb\tVoice input → Text with Whisper\u001b[0m\n\u001b[0m     \t                                 \t            ^\u001b[0m\n\u001b[0;31mSyntaxError\u001b[0m\u001b[0;31m:\u001b[0m invalid character '→' (U+2192)\n"
     ]
    }
   ],
   "source": [
    "No.\tNotebook Name\tPurpose\n",
    "\n",
    "1\tAGI_Reasoning_Model_Training.ipynb\tTrain/fine-tune reasoning LLM\n",
    "2\tDataset_Curation_and_Preprocessing.ipynb\tPrepare reasoning datasets\n",
    "3\tVoice_to_Text_Whisper_Model.ipynb\tVoice input → Text with Whisper\n",
    "4\tText_to_Voice_ElevenLabs_TTS.ipynb\tText → Voice using ElevenLabs\n",
    "5\tRAG_Pipeline_Build.ipynb\tBuild Retrieval Augmented Generation\n",
    "6\tMemory_Module_Postgres_pgvector.ipynb\tPersistent memory storage\n",
    "7\tEmbedding_Store_FAISS_Local.ipynb\tLocal embedding store with FAISS\n",
    "8\tSocratic_Questioning_Dataset_Preparation.ipynb\tDataset for Socratic reasoning prompts\n",
    "9\tMultimodal_Image_Captioning_BLIP.ipynb\tProcess images using BLIP model\n",
    "10\tMultimodal_Voice_Image_Text_Pipeline.ipynb\tCombine image, voice, text input\n",
    "11\tAdvanced_Prompt_Engineering.ipynb\tPrompt tuning for better LLM outputs\n",
    "12\tMultimodal_Input_Handling.ipynb\tUnified multimodal handling\n",
    "13\tSocratic_Testing_Evaluator.ipynb\tEvaluate reasoning via Socratic methods\n",
    "14\tModel_Enhancement_Strategies.ipynb\tModel improvement via fine-tuning, LoRA\n",
    "15\tMemory_Module_Build.ipynb\tBuild memory retrieval engine\n",
    "16\tAPI_Layer_FastAPI_Deployment.ipynb\tExpose API endpoints via FastAPI\n",
    "17\tTesting_and_Monitoring_Pipeline.ipynb\tUnit testing, monitoring w/ Prometheus\n",
    "18\tStreamlit_UI_Development.ipynb\tInteractive UI for AGI Voice Agent\n",
    "19\tFull_AGI_VoiceAgent_Pipeline.ipynb\tEnd-to-end voice → reasoning → voice\n",
    "20\tBonus_Features_Enhancements.ipynb\tUI: Memory, chat history, multimodal\n",
    "21\tDocker_Deployment_Guide.ipynb\tContainerize with Docker\n",
    "22\tAWS_EC2_Deployment_Guide.ipynb\tDeploy to AWS EC2\n",
    "23\tGPU_CPU_Optimization.ipynb\tOptimize inference on CPU/GPU"
   ]
  }
 ],
 "metadata": {
  "kaggle": {
   "accelerator": "none",
   "dataSources": [],
   "isGpuEnabled": false,
   "isInternetEnabled": true,
   "language": "python",
   "sourceType": "notebook"
  },
  "kernelspec": {
   "display_name": "Python 3",
   "language": "python",
   "name": "python3"
  },
  "language_info": {
   "codemirror_mode": {
    "name": "ipython",
    "version": 3
   },
   "file_extension": ".py",
   "mimetype": "text/x-python",
   "name": "python",
   "nbconvert_exporter": "python",
   "pygments_lexer": "ipython3",
   "version": "3.11.13"
  },
  "papermill": {
   "default_parameters": {},
   "duration": 7.948851,
   "end_time": "2025-07-16T07:47:29.098477",
   "environment_variables": {},
   "exception": true,
   "input_path": "__notebook__.ipynb",
   "output_path": "__notebook__.ipynb",
   "parameters": {},
   "start_time": "2025-07-16T07:47:21.149626",
   "version": "2.6.0"
  }
 },
 "nbformat": 4,
 "nbformat_minor": 5
}
