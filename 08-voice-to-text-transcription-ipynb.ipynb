{
 "cells": [
  {
   "cell_type": "code",
   "execution_count": 1,
   "id": "8efe6c05",
   "metadata": {
    "_cell_guid": "b1076dfc-b9ad-4769-8c92-a6c4dae69d19",
    "_uuid": "8f2839f25d086af736a60e9eeb907d3b93b6e0e5",
    "execution": {
     "iopub.execute_input": "2025-07-16T06:22:57.995933Z",
     "iopub.status.busy": "2025-07-16T06:22:57.995573Z",
     "iopub.status.idle": "2025-07-16T06:22:59.895117Z",
     "shell.execute_reply": "2025-07-16T06:22:59.893781Z"
    },
    "papermill": {
     "duration": 1.904484,
     "end_time": "2025-07-16T06:22:59.896966",
     "exception": false,
     "start_time": "2025-07-16T06:22:57.992482",
     "status": "completed"
    },
    "tags": []
   },
   "outputs": [],
   "source": [
    "# This Python 3 environment comes with many helpful analytics libraries installed\n",
    "# It is defined by the kaggle/python Docker image: https://github.com/kaggle/docker-python\n",
    "# For example, here's several helpful packages to load\n",
    "\n",
    "import numpy as np # linear algebra\n",
    "import pandas as pd # data processing, CSV file I/O (e.g. pd.read_csv)\n",
    "\n",
    "# Input data files are available in the read-only \"../input/\" directory\n",
    "# For example, running this (by clicking run or pressing Shift+Enter) will list all files under the input directory\n",
    "\n",
    "import os\n",
    "for dirname, _, filenames in os.walk('/kaggle/input'):\n",
    "    for filename in filenames:\n",
    "        print(os.path.join(dirname, filename))\n",
    "\n",
    "# You can write up to 20GB to the current directory (/kaggle/working/) that gets preserved as output when you create a version using \"Save & Run All\" \n",
    "# You can also write temporary files to /kaggle/temp/, but they won't be saved outside of the current session"
   ]
  },
  {
   "cell_type": "code",
   "execution_count": 2,
   "id": "2c103df2",
   "metadata": {
    "execution": {
     "iopub.execute_input": "2025-07-16T06:22:59.901673Z",
     "iopub.status.busy": "2025-07-16T06:22:59.901254Z",
     "iopub.status.idle": "2025-07-16T06:22:59.913480Z",
     "shell.execute_reply": "2025-07-16T06:22:59.912157Z"
    },
    "papermill": {
     "duration": 0.016156,
     "end_time": "2025-07-16T06:22:59.914989",
     "exception": true,
     "start_time": "2025-07-16T06:22:59.898833",
     "status": "failed"
    },
    "tags": []
   },
   "outputs": [
    {
     "ename": "SyntaxError",
     "evalue": "invalid character '📌' (U+1F4CC) (1446922648.py, line 13)",
     "output_type": "error",
     "traceback": [
      "\u001b[0;36m  File \u001b[0;32m\"/tmp/ipykernel_13/1446922648.py\"\u001b[0;36m, line \u001b[0;32m13\u001b[0m\n\u001b[0;31m    📌 1. Install Required Libraries\u001b[0m\n\u001b[0m    ^\u001b[0m\n\u001b[0;31mSyntaxError\u001b[0m\u001b[0;31m:\u001b[0m invalid character '📌' (U+1F4CC)\n"
     ]
    }
   ],
   "source": [
    "# 🎙️ AGI Voice Agent - Voice to Text Transcription (Notebook 8)\n",
    "\n",
    "### Objective:\n",
    "- Convert voice/audio input into text\n",
    "- Use Whisper (OpenAI) or Hugging Face pretrained models\n",
    "- Prepare text for reasoning, RAG, or direct LLM inference\n",
    "\n",
    "\n",
    "\n",
    "\n",
    "\n",
    "\n",
    "📌 1. Install Required Libraries\n",
    "\n",
    "!pip install openai-whisper transformers torchaudio\n",
    "\n",
    "\n",
    "\n",
    "\n",
    "📌 2. Import Libraries\n",
    "\n",
    "import whisper\n",
    "import torchaudio\n",
    "\n",
    "\n",
    "\n",
    "\n",
    "📌 3. Load Whisper Model\n",
    "\n",
    "model = whisper.load_model(\"base\")  # Options: tiny, base, small, medium, large\n",
    "\n",
    "\n",
    "\n",
    "\n",
    "📌 4. Load Audio File\n",
    "\n",
    "Example with local audio:\n",
    "\n",
    "audio_path = \"samples/sample_audio.wav\"\n",
    "\n",
    "waveform, sample_rate = torchaudio.load(audio_path)\n",
    "print(f\"Sample Rate: {sample_rate}, Waveform shape: {waveform.shape}\")\n",
    "\n",
    "\n",
    "\n",
    "\n",
    "📌 5. Transcribe Audio to Text\n",
    "\n",
    "result = model.transcribe(audio_path)\n",
    "print(\"Transcribed Text:\", result['text'])\n",
    "\n",
    "\n",
    "\n",
    "\n",
    "📌 6. Optional: Use Hugging Face ASR Model\n",
    "\n",
    "from transformers import pipeline\n",
    "\n",
    "asr = pipeline(\"automatic-speech-recognition\", model=\"openai/whisper-base\")\n",
    "\n",
    "transcription = asr(audio_path)\n",
    "print(\"HF Transcription:\", transcription['text'])\n",
    "\n",
    "\n",
    "\n",
    "\n",
    "📌 7. For Microphone Input (Optional)\n",
    "\n",
    "import sounddevice as sd\n",
    "import scipy.io.wavfile as wav\n",
    "\n",
    "duration = 5  # seconds\n",
    "sample_rate = 16000\n",
    "\n",
    "print(\"Recording...\")\n",
    "recording = sd.rec(int(duration * sample_rate), samplerate=sample_rate, channels=1)\n",
    "sd.wait()\n",
    "wav.write(\"samples/recorded_audio.wav\", sample_rate, recording)\n",
    "\n",
    "# Transcribe\n",
    "result = model.transcribe(\"samples/recorded_audio.wav\")\n",
    "print(\"Transcribed:\", result['text'])\n",
    "\n",
    "\n",
    "\n",
    "\n",
    "📌 8. Save Transcriptions\n",
    "\n",
    "with open(\"outputs/transcription.txt\", \"w\") as f:\n",
    "    f.write(result['text'])\n",
    "print(\"✅ Transcription saved to outputs/transcription.txt\")"
   ]
  }
 ],
 "metadata": {
  "kaggle": {
   "accelerator": "none",
   "dataSources": [],
   "isGpuEnabled": false,
   "isInternetEnabled": true,
   "language": "python",
   "sourceType": "notebook"
  },
  "kernelspec": {
   "display_name": "Python 3",
   "language": "python",
   "name": "python3"
  },
  "language_info": {
   "codemirror_mode": {
    "name": "ipython",
    "version": 3
   },
   "file_extension": ".py",
   "mimetype": "text/x-python",
   "name": "python",
   "nbconvert_exporter": "python",
   "pygments_lexer": "ipython3",
   "version": "3.11.13"
  },
  "papermill": {
   "default_parameters": {},
   "duration": 7.530384,
   "end_time": "2025-07-16T06:23:00.536541",
   "environment_variables": {},
   "exception": true,
   "input_path": "__notebook__.ipynb",
   "output_path": "__notebook__.ipynb",
   "parameters": {},
   "start_time": "2025-07-16T06:22:53.006157",
   "version": "2.6.0"
  }
 },
 "nbformat": 4,
 "nbformat_minor": 5
}
