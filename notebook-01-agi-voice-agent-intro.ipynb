{
 "cells": [
  {
   "cell_type": "code",
   "execution_count": 1,
   "id": "e7e62dac",
   "metadata": {
    "_cell_guid": "b1076dfc-b9ad-4769-8c92-a6c4dae69d19",
    "_uuid": "8f2839f25d086af736a60e9eeb907d3b93b6e0e5",
    "execution": {
     "iopub.execute_input": "2025-07-16T05:46:47.174169Z",
     "iopub.status.busy": "2025-07-16T05:46:47.173703Z",
     "iopub.status.idle": "2025-07-16T05:46:49.261680Z",
     "shell.execute_reply": "2025-07-16T05:46:49.260740Z"
    },
    "papermill": {
     "duration": 2.093867,
     "end_time": "2025-07-16T05:46:49.263521",
     "exception": false,
     "start_time": "2025-07-16T05:46:47.169654",
     "status": "completed"
    },
    "tags": []
   },
   "outputs": [],
   "source": [
    "# This Python 3 environment comes with many helpful analytics libraries installed\n",
    "# It is defined by the kaggle/python Docker image: https://github.com/kaggle/docker-python\n",
    "# For example, here's several helpful packages to load\n",
    "\n",
    "import numpy as np # linear algebra\n",
    "import pandas as pd # data processing, CSV file I/O (e.g. pd.read_csv)\n",
    "\n",
    "# Input data files are available in the read-only \"../input/\" directory\n",
    "# For example, running this (by clicking run or pressing Shift+Enter) will list all files under the input directory\n",
    "\n",
    "import os\n",
    "for dirname, _, filenames in os.walk('/kaggle/input'):\n",
    "    for filename in filenames:\n",
    "        print(os.path.join(dirname, filename))\n",
    "\n",
    "# You can write up to 20GB to the current directory (/kaggle/working/) that gets preserved as output when you create a version using \"Save & Run All\" \n",
    "# You can also write temporary files to /kaggle/temp/, but they won't be saved outside of the current session"
   ]
  },
  {
   "cell_type": "code",
   "execution_count": 2,
   "id": "282b4295",
   "metadata": {
    "execution": {
     "iopub.execute_input": "2025-07-16T05:46:49.269437Z",
     "iopub.status.busy": "2025-07-16T05:46:49.269034Z",
     "iopub.status.idle": "2025-07-16T05:46:49.276336Z",
     "shell.execute_reply": "2025-07-16T05:46:49.275090Z"
    },
    "papermill": {
     "duration": 0.01221,
     "end_time": "2025-07-16T05:46:49.277973",
     "exception": true,
     "start_time": "2025-07-16T05:46:49.265763",
     "status": "failed"
    },
    "tags": []
   },
   "outputs": [
    {
     "ename": "SyntaxError",
     "evalue": "invalid syntax (3231492377.py, line 3)",
     "output_type": "error",
     "traceback": [
      "\u001b[0;36m  File \u001b[0;32m\"/tmp/ipykernel_13/3231492377.py\"\u001b[0;36m, line \u001b[0;32m3\u001b[0m\n\u001b[0;31m    Welcome to the AGI Voice Agent project! This notebook introduces:\u001b[0m\n\u001b[0m            ^\u001b[0m\n\u001b[0;31mSyntaxError\u001b[0m\u001b[0;31m:\u001b[0m invalid syntax\n"
     ]
    }
   ],
   "source": [
    "# 🧠 AGI Voice Agent - Introduction & Architecture\n",
    "\n",
    "Welcome to the AGI Voice Agent project! This notebook introduces:\n",
    "- The overall system architecture\n",
    "- Key datasets\n",
    "- Tools & libraries used\n",
    "- Workflow overview\n",
    "\n",
    "\n",
    "## 📌 Project Goal\n",
    "To build an **AGI-powered voice agent** that:\n",
    "- Understands user voice input\n",
    "- Applies reasoning models\n",
    "- Retrieves relevant knowledge from 73 datasets\n",
    "- Responds via text and synthesized voice"
   ]
  },
  {
   "cell_type": "code",
   "execution_count": null,
   "id": "a7d89281",
   "metadata": {
    "execution": {
     "iopub.execute_input": "2025-07-16T05:46:21.401861Z",
     "iopub.status.busy": "2025-07-16T05:46:21.401436Z",
     "iopub.status.idle": "2025-07-16T05:46:21.409457Z",
     "shell.execute_reply": "2025-07-16T05:46:21.408318Z",
     "shell.execute_reply.started": "2025-07-16T05:46:21.401830Z"
    },
    "papermill": {
     "duration": null,
     "end_time": null,
     "exception": null,
     "start_time": null,
     "status": "pending"
    },
    "tags": []
   },
   "outputs": [],
   "source": [
    "## 📌 **2. Key Datasets**\n",
    "\n",
    "| Dataset Name           | Purpose                      |\n",
    "|------------------------|------------------------------|\n",
    "| AI-Reasoning Dataset    | Train core reasoning models  |\n",
    "| Hellaswag               | Reasoning and commonsense tasks |\n",
    "| Laion-400M Metadata     | Multimodal search            |\n",
    "| Socratic Test JSONL     | Logic & thought testing      |\n",
    "| 73 Total Datasets       | Knowledge base + reasoning   |\n",
    "\n",
    "\n",
    "\n",
    "## 📌 **3. Key Libraries & Tools**\n",
    "```python\n",
    "libraries = [\n",
    "    \"transformers\",   # LLMs\n",
    "    \"pandas\",         # Data processing\n",
    "    \"gdown\",          # Google Drive downloads\n",
    "    \"faiss / pgvector\", # Embedding & search\n",
    "    \"openai\",         # GPT models\n",
    "    \"streamlit\",      # Frontend UI\n",
    "    \"fastapi\",        # API Layer\n",
    "    \"uvicorn\",        # API Server\n",
    "    \"redis\",          # Caching\n",
    "    \"docker\",         # Deployment\n",
    "]\n",
    "for lib in libraries:\n",
    "    print(lib)"
   ]
  }
 ],
 "metadata": {
  "kaggle": {
   "accelerator": "none",
   "dataSources": [],
   "dockerImageVersionId": 31089,
   "isGpuEnabled": false,
   "isInternetEnabled": true,
   "language": "python",
   "sourceType": "notebook"
  },
  "kernelspec": {
   "display_name": "Python 3",
   "language": "python",
   "name": "python3"
  },
  "language_info": {
   "codemirror_mode": {
    "name": "ipython",
    "version": 3
   },
   "file_extension": ".py",
   "mimetype": "text/x-python",
   "name": "python",
   "nbconvert_exporter": "python",
   "pygments_lexer": "ipython3",
   "version": "3.11.13"
  },
  "papermill": {
   "default_parameters": {},
   "duration": 8.083752,
   "end_time": "2025-07-16T05:46:49.800775",
   "environment_variables": {},
   "exception": true,
   "input_path": "__notebook__.ipynb",
   "output_path": "__notebook__.ipynb",
   "parameters": {},
   "start_time": "2025-07-16T05:46:41.717023",
   "version": "2.6.0"
  }
 },
 "nbformat": 4,
 "nbformat_minor": 5
}
