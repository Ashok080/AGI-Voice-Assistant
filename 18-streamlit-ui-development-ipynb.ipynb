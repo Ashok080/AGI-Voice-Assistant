{
 "cells": [
  {
   "cell_type": "code",
   "execution_count": 1,
   "id": "322f79e6",
   "metadata": {
    "_cell_guid": "b1076dfc-b9ad-4769-8c92-a6c4dae69d19",
    "_uuid": "8f2839f25d086af736a60e9eeb907d3b93b6e0e5",
    "execution": {
     "iopub.execute_input": "2025-07-16T07:23:16.475704Z",
     "iopub.status.busy": "2025-07-16T07:23:16.475381Z",
     "iopub.status.idle": "2025-07-16T07:23:18.280081Z",
     "shell.execute_reply": "2025-07-16T07:23:18.279365Z"
    },
    "papermill": {
     "duration": 1.809863,
     "end_time": "2025-07-16T07:23:18.281647",
     "exception": false,
     "start_time": "2025-07-16T07:23:16.471784",
     "status": "completed"
    },
    "tags": []
   },
   "outputs": [],
   "source": [
    "# This Python 3 environment comes with many helpful analytics libraries installed\n",
    "# It is defined by the kaggle/python Docker image: https://github.com/kaggle/docker-python\n",
    "# For example, here's several helpful packages to load\n",
    "\n",
    "import numpy as np # linear algebra\n",
    "import pandas as pd # data processing, CSV file I/O (e.g. pd.read_csv)\n",
    "\n",
    "# Input data files are available in the read-only \"../input/\" directory\n",
    "# For example, running this (by clicking run or pressing Shift+Enter) will list all files under the input directory\n",
    "\n",
    "import os\n",
    "for dirname, _, filenames in os.walk('/kaggle/input'):\n",
    "    for filename in filenames:\n",
    "        print(os.path.join(dirname, filename))\n",
    "\n",
    "# You can write up to 20GB to the current directory (/kaggle/working/) that gets preserved as output when you create a version using \"Save & Run All\" \n",
    "# You can also write temporary files to /kaggle/temp/, but they won't be saved outside of the current session"
   ]
  },
  {
   "cell_type": "code",
   "execution_count": 2,
   "id": "1373462a",
   "metadata": {
    "execution": {
     "iopub.execute_input": "2025-07-16T07:23:18.285982Z",
     "iopub.status.busy": "2025-07-16T07:23:18.285582Z",
     "iopub.status.idle": "2025-07-16T07:23:18.293619Z",
     "shell.execute_reply": "2025-07-16T07:23:18.292574Z"
    },
    "papermill": {
     "duration": 0.011503,
     "end_time": "2025-07-16T07:23:18.294972",
     "exception": true,
     "start_time": "2025-07-16T07:23:18.283469",
     "status": "failed"
    },
    "tags": []
   },
   "outputs": [
    {
     "ename": "SyntaxError",
     "evalue": "invalid character '📌' (U+1F4CC) (2428248159.py, line 14)",
     "output_type": "error",
     "traceback": [
      "\u001b[0;36m  File \u001b[0;32m\"/tmp/ipykernel_13/2428248159.py\"\u001b[0;36m, line \u001b[0;32m14\u001b[0m\n\u001b[0;31m    📌 1. Install Streamlit\u001b[0m\n\u001b[0m    ^\u001b[0m\n\u001b[0;31mSyntaxError\u001b[0m\u001b[0;31m:\u001b[0m invalid character '📌' (U+1F4CC)\n"
     ]
    }
   ],
   "source": [
    "# 🎛️ AGI Voice Agent - Streamlit UI Development (Notebook 18)\n",
    "\n",
    "### Objective:\n",
    "- Create an interactive web app\n",
    "- Input via text, upload voice/audio\n",
    "- Display reasoning response\n",
    "- Play synthesized voice output\n",
    "\n",
    "\n",
    "\n",
    "\n",
    "\n",
    "\n",
    "📌 1. Install Streamlit\n",
    "\n",
    "pip install streamlit\n",
    "\n",
    "\n",
    "\n",
    "\n",
    "📌 2. Streamlit App Template\n",
    "\n",
    "import streamlit as st\n",
    "import requests\n",
    "\n",
    "st.title(\"🎙️ AGI Voice Agent\")\n",
    "\n",
    "# API Base URL\n",
    "API_URL = \"http://localhost:8000\"\n",
    "\n",
    "# Text input\n",
    "text_input = st.text_input(\"Enter your query:\")\n",
    "if st.button(\"Get Reasoning\"):\n",
    "    response = requests.post(f\"{API_URL}/reason\", json={\"text\": text_input})\n",
    "    st.write(\"Response:\", response.json()['response'])\n",
    "\n",
    "# Audio input\n",
    "audio_file = st.file_uploader(\"Upload an audio file (.wav)\", type=['wav'])\n",
    "if audio_file is not None:\n",
    "    files = {\"file\": (audio_file.name, audio_file, \"audio/wav\")}\n",
    "    response = requests.post(f\"{API_URL}/voice-to-text/\", files=files)\n",
    "    transcription = response.json()['transcription']\n",
    "    st.write(\"Transcribed Text:\", transcription)\n",
    "\n",
    "# Text to Speech\n",
    "tts_text = st.text_input(\"Text to convert to Voice:\")\n",
    "if st.button(\"Generate Voice\"):\n",
    "    response = requests.post(f\"{API_URL}/text-to-voice/\", json={\"text\": tts_text})\n",
    "    audio_path = response.json()['audio_file']\n",
    "    st.audio(audio_path)\n",
    "\n",
    "\n",
    "\n",
    "\n",
    "📌 3. Run Streamlit App\n",
    "\n",
    "streamlit run app.py\n",
    "\n"
   ]
  }
 ],
 "metadata": {
  "kaggle": {
   "accelerator": "none",
   "dataSources": [],
   "dockerImageVersionId": 31089,
   "isGpuEnabled": false,
   "isInternetEnabled": true,
   "language": "python",
   "sourceType": "notebook"
  },
  "kernelspec": {
   "display_name": "Python 3",
   "language": "python",
   "name": "python3"
  },
  "language_info": {
   "codemirror_mode": {
    "name": "ipython",
    "version": 3
   },
   "file_extension": ".py",
   "mimetype": "text/x-python",
   "name": "python",
   "nbconvert_exporter": "python",
   "pygments_lexer": "ipython3",
   "version": "3.11.13"
  },
  "papermill": {
   "default_parameters": {},
   "duration": 6.976152,
   "end_time": "2025-07-16T07:23:18.816137",
   "environment_variables": {},
   "exception": true,
   "input_path": "__notebook__.ipynb",
   "output_path": "__notebook__.ipynb",
   "parameters": {},
   "start_time": "2025-07-16T07:23:11.839985",
   "version": "2.6.0"
  }
 },
 "nbformat": 4,
 "nbformat_minor": 5
}
