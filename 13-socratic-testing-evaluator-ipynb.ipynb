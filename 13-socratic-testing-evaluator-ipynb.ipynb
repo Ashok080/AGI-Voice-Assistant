{
 "cells": [
  {
   "cell_type": "code",
   "execution_count": 1,
   "id": "d2b06025",
   "metadata": {
    "_cell_guid": "b1076dfc-b9ad-4769-8c92-a6c4dae69d19",
    "_uuid": "8f2839f25d086af736a60e9eeb907d3b93b6e0e5",
    "execution": {
     "iopub.execute_input": "2025-07-16T06:38:13.697687Z",
     "iopub.status.busy": "2025-07-16T06:38:13.697249Z",
     "iopub.status.idle": "2025-07-16T06:38:15.584785Z",
     "shell.execute_reply": "2025-07-16T06:38:15.583903Z"
    },
    "papermill": {
     "duration": 1.892709,
     "end_time": "2025-07-16T06:38:15.586510",
     "exception": false,
     "start_time": "2025-07-16T06:38:13.693801",
     "status": "completed"
    },
    "tags": []
   },
   "outputs": [],
   "source": [
    "# This Python 3 environment comes with many helpful analytics libraries installed\n",
    "# It is defined by the kaggle/python Docker image: https://github.com/kaggle/docker-python\n",
    "# For example, here's several helpful packages to load\n",
    "\n",
    "import numpy as np # linear algebra\n",
    "import pandas as pd # data processing, CSV file I/O (e.g. pd.read_csv)\n",
    "\n",
    "# Input data files are available in the read-only \"../input/\" directory\n",
    "# For example, running this (by clicking run or pressing Shift+Enter) will list all files under the input directory\n",
    "\n",
    "import os\n",
    "for dirname, _, filenames in os.walk('/kaggle/input'):\n",
    "    for filename in filenames:\n",
    "        print(os.path.join(dirname, filename))\n",
    "\n",
    "# You can write up to 20GB to the current directory (/kaggle/working/) that gets preserved as output when you create a version using \"Save & Run All\" \n",
    "# You can also write temporary files to /kaggle/temp/, but they won't be saved outside of the current session"
   ]
  },
  {
   "cell_type": "code",
   "execution_count": 2,
   "id": "48652d0e",
   "metadata": {
    "execution": {
     "iopub.execute_input": "2025-07-16T06:38:15.591489Z",
     "iopub.status.busy": "2025-07-16T06:38:15.591064Z",
     "iopub.status.idle": "2025-07-16T06:38:15.600602Z",
     "shell.execute_reply": "2025-07-16T06:38:15.599429Z"
    },
    "papermill": {
     "duration": 0.013535,
     "end_time": "2025-07-16T06:38:15.602005",
     "exception": true,
     "start_time": "2025-07-16T06:38:15.588470",
     "status": "failed"
    },
    "tags": []
   },
   "outputs": [
    {
     "ename": "SyntaxError",
     "evalue": "invalid character '📌' (U+1F4CC) (1364541991.py, line 13)",
     "output_type": "error",
     "traceback": [
      "\u001b[0;36m  File \u001b[0;32m\"/tmp/ipykernel_13/1364541991.py\"\u001b[0;36m, line \u001b[0;32m13\u001b[0m\n\u001b[0;31m    📌 1. Load Libraries\u001b[0m\n\u001b[0m    ^\u001b[0m\n\u001b[0;31mSyntaxError\u001b[0m\u001b[0;31m:\u001b[0m invalid character '📌' (U+1F4CC)\n"
     ]
    }
   ],
   "source": [
    "# 🧩 AGI Voice Agent - Socratic Testing & Evaluation (Notebook 13)\n",
    "\n",
    "### Objective:\n",
    "- Test AGI reasoning via **Socratic Questioning**\n",
    "- Evaluate step-by-step reasoning & knowledge depth\n",
    "- Benchmark AGI on reasoning datasets (e.g., Hellaswag, AI Reasoning)\n",
    "\n",
    "\n",
    "\n",
    "\n",
    "\n",
    "\n",
    "📌 1. Load Libraries\n",
    "\n",
    "from transformers import pipeline\n",
    "import json\n",
    "import pandas as pd\n",
    "\n",
    "\n",
    "\n",
    "\n",
    "📌 2. Load Pretrained / Fine-tuned Model\n",
    "\n",
    "generator = pipeline('text-generation', model='gpt2', max_length=200)\n",
    "\n",
    "\n",
    "\n",
    "\n",
    "📌 3. Define Socratic Prompt Template\n",
    "\n",
    "def socratic_prompt(question):\n",
    "    prompt = f\"\"\"\n",
    "You are an AI designed for deep reasoning. Apply Socratic questioning to explore this topic:\n",
    "\n",
    "Question: {question}\n",
    "\n",
    "Respond step by step, asking yourself clarifying questions and exploring alternatives before giving an answer.\n",
    "\"\"\"\n",
    "    return prompt\n",
    "\n",
    "\n",
    "\n",
    "\n",
    "📌 4. Load Testing Questions\n",
    "\n",
    "with open('data/test_socratic.jsonl.txt', 'r') as f:\n",
    "    test_questions = [json.loads(line)['question'] for line in f]\n",
    "\n",
    "print(\"Total Test Questions:\", len(test_questions))\n",
    "\n",
    "\n",
    "\n",
    "\n",
    "📌 5. Evaluate Model on Socratic Tests\n",
    "\n",
    "results = []\n",
    "\n",
    "for q in test_questions[:5]:  # Evaluate first 5 questions for demo\n",
    "    prompt = socratic_prompt(q)\n",
    "    response = generator(prompt)[0]['generated_text']\n",
    "    results.append({'question': q, 'response': response})\n",
    "    print(f\"Q: {q}\\nResponse: {response}\\n{'-'*50}\")\n",
    "\n",
    "\n",
    "\n",
    "\n",
    "📌 6. Save Evaluation Results\n",
    "\n",
    "results_df = pd.DataFrame(results)\n",
    "results_df.to_csv('outputs/socratic_test_results.csv', index=False)\n",
    "print(\"✅ Socratic test results saved to outputs/socratic_test_results.csv\")\n",
    "\n",
    "\n",
    "\n",
    "\n",
    "📌 7. Next Steps\n",
    "\n",
    "✅ Manually or automatically score reasoning quality, step depth, logical clarity\n",
    "\n",
    "✅ Proceed to:\n",
    "\n",
    "14_Model_Enhancement_Strategies.ipynb\n",
    "\n",
    "Or develop an Evaluator Model (LLM Judge) for auto-scoring"
   ]
  }
 ],
 "metadata": {
  "kaggle": {
   "accelerator": "none",
   "dataSources": [],
   "dockerImageVersionId": 31089,
   "isGpuEnabled": false,
   "isInternetEnabled": true,
   "language": "python",
   "sourceType": "notebook"
  },
  "kernelspec": {
   "display_name": "Python 3",
   "language": "python",
   "name": "python3"
  },
  "language_info": {
   "codemirror_mode": {
    "name": "ipython",
    "version": 3
   },
   "file_extension": ".py",
   "mimetype": "text/x-python",
   "name": "python",
   "nbconvert_exporter": "python",
   "pygments_lexer": "ipython3",
   "version": "3.11.13"
  },
  "papermill": {
   "default_parameters": {},
   "duration": 7.355445,
   "end_time": "2025-07-16T06:38:16.123691",
   "environment_variables": {},
   "exception": true,
   "input_path": "__notebook__.ipynb",
   "output_path": "__notebook__.ipynb",
   "parameters": {},
   "start_time": "2025-07-16T06:38:08.768246",
   "version": "2.6.0"
  }
 },
 "nbformat": 4,
 "nbformat_minor": 5
}
